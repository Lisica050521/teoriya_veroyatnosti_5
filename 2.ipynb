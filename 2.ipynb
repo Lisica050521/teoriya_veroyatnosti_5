{
 "cells": [
  {
   "attachments": {},
   "cell_type": "markdown",
   "metadata": {},
   "source": [
    "#### Задача 2\n",
    "Проведите тест гипотезы. Утверждается, что шарики для подшипников, изготовленные автоматическим станком, имеют средний диаметр 17 мм. Используя односторонний критерий с \n",
    "=0.05, проверить эту гипотезу, если в выборке из n=100 шариков средний диаметр оказался равным 17.5 мм, а дисперсия известна и равна 4 мм.\n",
    "\n",
    "Из этих данных нам известно:\n",
    "\n",
    "* mu = 17 (средний диаметр шариков генеральной совокупности)\n",
    "* alpha = 0.05 = 5% (односторонний критерий)\n",
    "* n = 100 (шариков)\n",
    "* X = 17.5 (средний диаметр шариков выборки)\n",
    "* D(x) = 4 (дисперсия в кв.мм)\n",
    "* sigma = sqrt(D(x)) (среднее квадратичное отклонение, корень из дисперсии) = 2\n",
    "\n",
    "Формула рассчета: Z(H) = (X - mu) / (sigma / sqrt(n))"
   ]
  },
  {
   "cell_type": "code",
   "execution_count": 1,
   "metadata": {},
   "outputs": [
    {
     "data": {
      "text/plain": [
       "2.5"
      ]
     },
     "execution_count": 1,
     "metadata": {},
     "output_type": "execute_result"
    }
   ],
   "source": [
    "import numpy as np \n",
    "\n",
    "def Z(x, mu, sigma, n):\n",
    "    return (x - mu) / (sigma / np.sqrt(n))\n",
    "\n",
    "n = 100\n",
    "x = 17.5\n",
    "mu = 17\n",
    "sigma = 2\n",
    "\n",
    "z = Z(x, mu, sigma, n)\n",
    "z"
   ]
  },
  {
   "attachments": {},
   "cell_type": "markdown",
   "metadata": {},
   "source": [
    "Найдем табличное значение Z-критерия для alpha = 0.05"
   ]
  },
  {
   "cell_type": "code",
   "execution_count": 2,
   "metadata": {},
   "outputs": [
    {
     "data": {
      "text/plain": [
       "1.6448536269514722"
      ]
     },
     "execution_count": 2,
     "metadata": {},
     "output_type": "execute_result"
    }
   ],
   "source": [
    "import scipy.stats as stats\n",
    "\n",
    "stats.norm.ppf(0.95)"
   ]
  },
  {
   "attachments": {},
   "cell_type": "markdown",
   "metadata": {},
   "source": [
    "Ответ: Так как Z(Наблюдаемое) > Z(Табличное) то отвергаем нулевую гипотезу.\n",
    "\n",
    "Вывод: Шарики для подшипников из выборки взяты не из генеральной совокупности (т.е. не были изготовлены именно на том станке, о котором говорится)"
   ]
  }
 ],
 "metadata": {
  "kernelspec": {
   "display_name": "Python 3",
   "language": "python",
   "name": "python3"
  },
  "language_info": {
   "codemirror_mode": {
    "name": "ipython",
    "version": 3
   },
   "file_extension": ".py",
   "mimetype": "text/x-python",
   "name": "python",
   "nbconvert_exporter": "python",
   "pygments_lexer": "ipython3",
   "version": "3.11.1"
  },
  "orig_nbformat": 4
 },
 "nbformat": 4,
 "nbformat_minor": 2
}
